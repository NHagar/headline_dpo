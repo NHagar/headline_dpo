{
 "cells": [
  {
   "cell_type": "code",
   "execution_count": 69,
   "metadata": {},
   "outputs": [],
   "source": [
    "import time\n",
    "import duckdb\n",
    "import requests\n",
    "from bs4 import BeautifulSoup"
   ]
  },
  {
   "cell_type": "markdown",
   "metadata": {},
   "source": [
    "# Data prep"
   ]
  },
  {
   "cell_type": "code",
   "execution_count": 2,
   "metadata": {},
   "outputs": [],
   "source": [
    "con = duckdb.connect(':memory:')"
   ]
  },
  {
   "cell_type": "code",
   "execution_count": 18,
   "metadata": {},
   "outputs": [],
   "source": [
    "q = \"\"\"\n",
    "WITH unique_heds_per_test AS (\n",
    "SELECT\n",
    "    clickability_test_id,\n",
    "    COUNT(DISTINCT headline) AS num_headlines\n",
    "FROM\n",
    "    'data/upworthy_exploratory.csv'\n",
    "GROUP BY \n",
    "    1\n",
    "),\n",
    "multi AS (\n",
    "SELECT clickability_test_id FROM unique_heds_per_test WHERE num_headlines > 1\n",
    ")\n",
    "SELECT\n",
    "    clickability_test_id,\n",
    "    headline,\n",
    "    slug,\n",
    "    first_place\n",
    "FROM\n",
    "    'data/upworthy_exploratory.csv'\n",
    "WHERE\n",
    "    clickability_test_id IN (SELECT * FROM multi)\n",
    "\"\"\"\n",
    "\n",
    "df = con.execute(q).fetchdf()"
   ]
  },
  {
   "cell_type": "code",
   "execution_count": 43,
   "metadata": {},
   "outputs": [],
   "source": [
    "df[\"slug_truncated\"] = df[\"slug\"].apply(lambda x: \"-\".join(x.split(\"-\")[:-2]))"
   ]
  },
  {
   "cell_type": "code",
   "execution_count": 45,
   "metadata": {},
   "outputs": [],
   "source": [
    "df[\"slug_pairs\"] = df.apply(lambda x: (x[\"slug_truncated\"], x[\"first_place\"]), axis=1)"
   ]
  },
  {
   "cell_type": "markdown",
   "metadata": {},
   "source": [
    "# Find Wayback records"
   ]
  },
  {
   "cell_type": "code",
   "execution_count": 75,
   "metadata": {},
   "outputs": [],
   "source": [
    "r = requests.get(\n",
    "    \"http://web.archive.org/cdx/search/cdx\", \n",
    "    params={\n",
    "        \"url\": \"https://www.upworthy.com/45-seconds-in-and-suddenly-im-doubting-everything-i-thought-i-knew-about-the-holidays\",\n",
    "        \"output\": \"json\"\n",
    "    },\n",
    "    headers=\n",
    "    {\n",
    "        \"User-Agent\": \"Mozilla/5.0 (Windows NT 10.0; Win64; x64) AppleWebKit/537.36 (KHTML, like Gecko) Chrome/58.0.3029.110 Safari/537.3\"\n",
    "    }\n",
    ")"
   ]
  },
  {
   "cell_type": "code",
   "execution_count": 79,
   "metadata": {},
   "outputs": [],
   "source": [
    "r_json = r.json()"
   ]
  },
  {
   "cell_type": "code",
   "execution_count": 80,
   "metadata": {},
   "outputs": [],
   "source": [
    "url_wayback = f\"https://web.archive.org/web/{r_json[1][1]}/{r_json[1][2]}\""
   ]
  },
  {
   "cell_type": "code",
   "execution_count": 82,
   "metadata": {},
   "outputs": [],
   "source": [
    "# check response for missing record"
   ]
  },
  {
   "cell_type": "code",
   "execution_count": null,
   "metadata": {},
   "outputs": [],
   "source": []
  },
  {
   "cell_type": "code",
   "execution_count": null,
   "metadata": {},
   "outputs": [],
   "source": [
    "def check_wayback_archive(urls, delay=1):\n",
    "    archived_urls = []\n",
    "    for url in urls:\n",
    "        try:\n",
    "            # Send request to Wayback Machine CDX API\n",
    "            response = requests.get(\n",
    "                \"http://web.archive.org/cdx/search/cdx\",\n",
    "                params={\"url\": url, \"output\": \"json\"}\n",
    "            )\n",
    "            response.raise_for_status()  # Check for HTTP errors\n",
    "            \n",
    "            data = response.json()\n",
    "            # Check if there are any snapshots (response isn't empty)\n",
    "            if len(data) > 0:\n",
    "                archived_urls.append(url)\n",
    "                print(f\"Archived: {url}\")\n",
    "            else:\n",
    "                print(f\"Not archived: {url}\")\n",
    "            \n",
    "            time.sleep(delay)  # Respectful delay between requests\n",
    "        except requests.exceptions.RequestException as e:\n",
    "            print(f\"Error checking {url}: {e}\")\n",
    "        except ValueError as e:\n",
    "            print(f\"Invalid JSON response for {url}: {e}\")\n",
    "    return archived_urls"
   ]
  },
  {
   "cell_type": "code",
   "execution_count": null,
   "metadata": {},
   "outputs": [],
   "source": []
  },
  {
   "cell_type": "code",
   "execution_count": null,
   "metadata": {},
   "outputs": [],
   "source": []
  },
  {
   "cell_type": "code",
   "execution_count": null,
   "metadata": {},
   "outputs": [],
   "source": []
  },
  {
   "cell_type": "markdown",
   "metadata": {},
   "source": [
    "# Parse body text"
   ]
  },
  {
   "cell_type": "code",
   "execution_count": null,
   "metadata": {},
   "outputs": [],
   "source": [
    "def get_body_text(slug):\n",
    "    url = f\"\""
   ]
  },
  {
   "cell_type": "code",
   "execution_count": 52,
   "metadata": {},
   "outputs": [],
   "source": [
    "r = requests.get(\"https://web.archive.org/web/20240920135734/https://www.upworthy.com/45-seconds-in-and-suddenly-im-doubting-everything-i-thought-i-knew-about-the-holidays\")"
   ]
  },
  {
   "cell_type": "code",
   "execution_count": 67,
   "metadata": {},
   "outputs": [],
   "source": [
    "soup = BeautifulSoup(r.text, \"html.parser\")\n",
    "body = soup.find_all(\"div\", {\"class\": \"widget__body\"})[1]\n",
    "h_tags = body.find_all([\"h2\", \"h3\", \"h4\", \"h5\", \"h6\"])\n",
    "p_tags = body.find_all(\"p\")\n",
    "all_tags = h_tags + p_tags\n",
    "text = \" \".join([tag.text for tag in all_tags])"
   ]
  },
  {
   "cell_type": "code",
   "execution_count": 68,
   "metadata": {},
   "outputs": [
    {
     "name": "stdout",
     "output_type": "stream",
     "text": [
      "The fact is, everyone thinks they know why we celebrate Christmas. And nearly everyone is wrong. The history of Christmas is as varied and eclectic as the history of America. It's a blend of lots of different holidays and traditions. The real War on Christmas is being waged by those who want to limit it to Bing Crosby crooning to Baby Jesus. Let's stop the war. Merry Holidays, everyone!  Did you know that early Christians co-opted the Roman holiday of Saturnalia, a time of government-sanctioned, destructive, naked lawlessness? No joke! And that we have Christmas trees because an ancient cult liked to worship them?   So yeah, there is a \"War on Christmas.\" And it's being waged by everyone who wants you to forget that this is a time for embracing all kinds of traditions. The real meaning of Christmas?  We all can celebrate together because winter is a challenging and dark time. Everyone needs an excuse for a party.  Whether you're a Catholic heading out for midnight Mass or a Jew getting ready for a traditional movie-and-Chinese-food Christmas Day, Christmas is a super-inclusive holiday.  If that's all you think Christmas is about, you are missing out. See you under the mistletoe.  For more on Christmas past, check out this video.\n"
     ]
    }
   ],
   "source": [
    "print(text)"
   ]
  },
  {
   "cell_type": "markdown",
   "metadata": {},
   "source": [
    "# Format for DPO"
   ]
  },
  {
   "cell_type": "code",
   "execution_count": null,
   "metadata": {},
   "outputs": [],
   "source": []
  },
  {
   "cell_type": "code",
   "execution_count": null,
   "metadata": {},
   "outputs": [],
   "source": []
  },
  {
   "cell_type": "code",
   "execution_count": null,
   "metadata": {},
   "outputs": [],
   "source": []
  }
 ],
 "metadata": {
  "kernelspec": {
   "display_name": ".venv",
   "language": "python",
   "name": "python3"
  },
  "language_info": {
   "codemirror_mode": {
    "name": "ipython",
    "version": 3
   },
   "file_extension": ".py",
   "mimetype": "text/x-python",
   "name": "python",
   "nbconvert_exporter": "python",
   "pygments_lexer": "ipython3",
   "version": "3.12.4"
  }
 },
 "nbformat": 4,
 "nbformat_minor": 2
}
